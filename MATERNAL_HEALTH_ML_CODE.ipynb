{
 "cells": [
  {
   "cell_type": "code",
   "execution_count": 65,
   "id": "7513826b",
   "metadata": {},
   "outputs": [],
   "source": [
    "# import necessary libraries\n",
    "\n",
    "# loading and reading data\n",
    "import numpy as np\n",
    "import pandas as pd\n",
    "\n",
    "# libraries for visualizations\n",
    "import seaborn as sns\n",
    "import matplotlib.pyplot as plt"
   ]
  },
  {
   "cell_type": "code",
   "execution_count": 66,
   "id": "645384f6",
   "metadata": {},
   "outputs": [],
   "source": [
    "# load the data set(maternal_health data)\n",
    "\n",
    "df = pd.read_csv('Maternal Health Risk Data Set.csv')\n"
   ]
  },
  {
   "cell_type": "code",
   "execution_count": 67,
   "id": "f07905d9",
   "metadata": {},
   "outputs": [
    {
     "data": {
      "text/html": [
       "<div>\n",
       "<style scoped>\n",
       "    .dataframe tbody tr th:only-of-type {\n",
       "        vertical-align: middle;\n",
       "    }\n",
       "\n",
       "    .dataframe tbody tr th {\n",
       "        vertical-align: top;\n",
       "    }\n",
       "\n",
       "    .dataframe thead th {\n",
       "        text-align: right;\n",
       "    }\n",
       "</style>\n",
       "<table border=\"1\" class=\"dataframe\">\n",
       "  <thead>\n",
       "    <tr style=\"text-align: right;\">\n",
       "      <th></th>\n",
       "      <th>Age</th>\n",
       "      <th>SystolicBP</th>\n",
       "      <th>DiastolicBP</th>\n",
       "      <th>BS</th>\n",
       "      <th>BodyTemp</th>\n",
       "      <th>HeartRate</th>\n",
       "      <th>RiskLevel</th>\n",
       "    </tr>\n",
       "  </thead>\n",
       "  <tbody>\n",
       "    <tr>\n",
       "      <th>0</th>\n",
       "      <td>25</td>\n",
       "      <td>130</td>\n",
       "      <td>80</td>\n",
       "      <td>15.0</td>\n",
       "      <td>98.0</td>\n",
       "      <td>86</td>\n",
       "      <td>high risk</td>\n",
       "    </tr>\n",
       "    <tr>\n",
       "      <th>1</th>\n",
       "      <td>35</td>\n",
       "      <td>140</td>\n",
       "      <td>90</td>\n",
       "      <td>13.0</td>\n",
       "      <td>98.0</td>\n",
       "      <td>70</td>\n",
       "      <td>high risk</td>\n",
       "    </tr>\n",
       "    <tr>\n",
       "      <th>2</th>\n",
       "      <td>29</td>\n",
       "      <td>90</td>\n",
       "      <td>70</td>\n",
       "      <td>8.0</td>\n",
       "      <td>100.0</td>\n",
       "      <td>80</td>\n",
       "      <td>high risk</td>\n",
       "    </tr>\n",
       "    <tr>\n",
       "      <th>3</th>\n",
       "      <td>30</td>\n",
       "      <td>140</td>\n",
       "      <td>85</td>\n",
       "      <td>7.0</td>\n",
       "      <td>98.0</td>\n",
       "      <td>70</td>\n",
       "      <td>high risk</td>\n",
       "    </tr>\n",
       "    <tr>\n",
       "      <th>4</th>\n",
       "      <td>35</td>\n",
       "      <td>120</td>\n",
       "      <td>60</td>\n",
       "      <td>6.1</td>\n",
       "      <td>98.0</td>\n",
       "      <td>76</td>\n",
       "      <td>low risk</td>\n",
       "    </tr>\n",
       "  </tbody>\n",
       "</table>\n",
       "</div>"
      ],
      "text/plain": [
       "   Age  SystolicBP  DiastolicBP    BS  BodyTemp  HeartRate  RiskLevel\n",
       "0   25         130           80  15.0      98.0         86  high risk\n",
       "1   35         140           90  13.0      98.0         70  high risk\n",
       "2   29          90           70   8.0     100.0         80  high risk\n",
       "3   30         140           85   7.0      98.0         70  high risk\n",
       "4   35         120           60   6.1      98.0         76   low risk"
      ]
     },
     "execution_count": 67,
     "metadata": {},
     "output_type": "execute_result"
    }
   ],
   "source": [
    "# Check the first 5 columns of the data set\n",
    "df.head(5)"
   ]
  },
  {
   "attachments": {},
   "cell_type": "markdown",
   "id": "089232a7",
   "metadata": {},
   "source": [
    "### Data Features explanation\n",
    "|Feature\t|Description\t                                                                    |Unit      |\n",
    "|-----------|-----------------------------------------------------------------------------------|----------|\n",
    "|Age\t    |Ages in years when a woman is pregnant\t                                            |          |\n",
    "|SystolicBP\t|Upper value of Blood Pressure                                                      |mmHg      |\n",
    "|DiastolicBP|Lower value of Blood Pressure\t                                                    |mmHg      |\n",
    "|BS\t        |Blood glucose levels is in terms of a molar concentration\t                        |mmol/L    |\n",
    "|BodyTerm\t|Bodytemperature\t                                                                |Fahrenheit|\n",
    "|HeartRate\t|A normal resting heart rate\t                                                    |bpm       |\n",
    "|RiskLevel\t|Predicted Risk Intensity Level during pregnancy considering the previous attribute |          |\t\n"
   ]
  },
  {
   "cell_type": "markdown",
   "id": "4d6716d1",
   "metadata": {},
   "source": [
    "## 1. Data Overview\n",
    "\n",
    "- Data Stucture\n",
    "- Data Quality check\n",
    "- Data Descriptive analysis"
   ]
  },
  {
   "cell_type": "markdown",
   "id": "56bf3f44",
   "metadata": {},
   "source": [
    "### 1.1 Data Structure\n",
    "\n",
    "| Task           | Objective                                             |\n",
    "|----------------|-------------------------------------------------------|\n",
    "| Data Dimension | To know the number of columns and rows of the dataset |\n",
    "| Data Types     | To verify that the data types align with the features |\n",
    "| Data Columns   | To list and understand the columns                    |\n"
   ]
  },
  {
   "cell_type": "markdown",
   "id": "8db49865",
   "metadata": {},
   "source": [
    "### 1.1.0 Data Structure code line"
   ]
  },
  {
   "cell_type": "code",
   "execution_count": 68,
   "id": "ce6a15de",
   "metadata": {},
   "outputs": [
    {
     "name": "stdout",
     "output_type": "stream",
     "text": [
      " Data set Dimensions: (1014, 7)\n",
      "---------------------------------------\n",
      " Data types:\n",
      "Age              int64\n",
      "SystolicBP       int64\n",
      "DiastolicBP      int64\n",
      "BS             float64\n",
      "BodyTemp       float64\n",
      "HeartRate        int64\n",
      "RiskLevel       object\n",
      "dtype: object\n",
      "----------------------------------------\n",
      " Data columns: Index(['Age', 'SystolicBP', 'DiastolicBP', 'BS', 'BodyTemp', 'HeartRate',\n",
      "       'RiskLevel'],\n",
      "      dtype='object')\n"
     ]
    }
   ],
   "source": [
    "# checking the dimensionality of the data set\n",
    "print(f\" Data set Dimensions: {df.shape}\")\n",
    "\n",
    "print('---------------------------------------')\n",
    "# Checking the data types\n",
    "print(f\" Data types:\\n{df.dtypes}\")\n",
    "\n",
    "print('----------------------------------------')\n",
    "# check the data columns\n",
    "print(f\" Data columns: {df.columns}\")\n"
   ]
  },
  {
   "cell_type": "markdown",
   "id": "fd04b4af",
   "metadata": {},
   "source": [
    "### 1.2 Data Quality Check\n",
    "\n",
    "| Task        |Objective                                              |\n",
    "|-------------|-------------------------------------------------------|\n",
    "|missing value| identify missing data and understand its extent       |\n",
    "|Data Range   | verify numerical data is within expected bounds       |"
   ]
  },
  {
   "cell_type": "markdown",
   "id": "709f90d8",
   "metadata": {},
   "source": [
    "### 1.2.1 Code for Data Quality Check"
   ]
  },
  {
   "cell_type": "code",
   "execution_count": 69,
   "id": "e1b56c96",
   "metadata": {},
   "outputs": [
    {
     "name": "stdout",
     "output_type": "stream",
     "text": [
      "missing value: Age            0\n",
      "SystolicBP     0\n",
      "DiastolicBP    0\n",
      "BS             0\n",
      "BodyTemp       0\n",
      "HeartRate      0\n",
      "RiskLevel      0\n",
      "dtype: int64\n",
      "----------------------------------------\n",
      "Age: min = 10, max = 70\n",
      "SystolicBP: min = 70, max = 160\n",
      "DiastolicBP: min = 49, max = 100\n",
      "BS: min = 6.0, max = 19.0\n",
      "BodyTemp: min = 98.0, max = 103.0\n",
      "HeartRate: min = 7, max = 90\n"
     ]
    }
   ],
   "source": [
    "# check for missing value\n",
    "print(f\"missing value: {df.isnull().sum()}\")\n",
    "\n",
    "print('----------------------------------------')\n",
    "# check for data range and validity\n",
    "num_columns = df.select_dtypes(include=['number']).columns\n",
    "for col in num_columns:\n",
    "    print(f\"{col}: min = {df[col].min()}, max = {df[col].max()}\")\n",
    "\n",
    "\n"
   ]
  },
  {
   "cell_type": "markdown",
   "id": "1c81e10e",
   "metadata": {},
   "source": [
    "### 1.3 Data descriptive analysis\n",
    "\n",
    "| Task                             | Objective                                                                          |\n",
    "|----------------------------------|------------------------------------------------------------------------------------|\n",
    "|statistics of numerical features  | quick overview of the distribution and central tendencies of the numerical features|\n",
    "|statistics of categorical features| understand class distribution of categorical variable                              |"
   ]
  },
  {
   "cell_type": "markdown",
   "id": "dfc0f67b",
   "metadata": {},
   "source": [
    "### 1.3.1 Code for Data Statistics distribution"
   ]
  },
  {
   "cell_type": "code",
   "execution_count": 70,
   "id": "1b0999bb",
   "metadata": {},
   "outputs": [
    {
     "name": "stdout",
     "output_type": "stream",
     "text": [
      "The summary Statistics of numerical features:\n"
     ]
    },
    {
     "data": {
      "text/html": [
       "<div>\n",
       "<style scoped>\n",
       "    .dataframe tbody tr th:only-of-type {\n",
       "        vertical-align: middle;\n",
       "    }\n",
       "\n",
       "    .dataframe tbody tr th {\n",
       "        vertical-align: top;\n",
       "    }\n",
       "\n",
       "    .dataframe thead th {\n",
       "        text-align: right;\n",
       "    }\n",
       "</style>\n",
       "<table border=\"1\" class=\"dataframe\">\n",
       "  <thead>\n",
       "    <tr style=\"text-align: right;\">\n",
       "      <th></th>\n",
       "      <th>Age</th>\n",
       "      <th>SystolicBP</th>\n",
       "      <th>DiastolicBP</th>\n",
       "      <th>BS</th>\n",
       "      <th>BodyTemp</th>\n",
       "      <th>HeartRate</th>\n",
       "    </tr>\n",
       "  </thead>\n",
       "  <tbody>\n",
       "    <tr>\n",
       "      <th>count</th>\n",
       "      <td>1014.000000</td>\n",
       "      <td>1014.000000</td>\n",
       "      <td>1014.000000</td>\n",
       "      <td>1014.000000</td>\n",
       "      <td>1014.000000</td>\n",
       "      <td>1014.000000</td>\n",
       "    </tr>\n",
       "    <tr>\n",
       "      <th>mean</th>\n",
       "      <td>29.871795</td>\n",
       "      <td>113.198225</td>\n",
       "      <td>76.460552</td>\n",
       "      <td>8.725986</td>\n",
       "      <td>98.665089</td>\n",
       "      <td>74.301775</td>\n",
       "    </tr>\n",
       "    <tr>\n",
       "      <th>std</th>\n",
       "      <td>13.474386</td>\n",
       "      <td>18.403913</td>\n",
       "      <td>13.885796</td>\n",
       "      <td>3.293532</td>\n",
       "      <td>1.371384</td>\n",
       "      <td>8.088702</td>\n",
       "    </tr>\n",
       "    <tr>\n",
       "      <th>min</th>\n",
       "      <td>10.000000</td>\n",
       "      <td>70.000000</td>\n",
       "      <td>49.000000</td>\n",
       "      <td>6.000000</td>\n",
       "      <td>98.000000</td>\n",
       "      <td>7.000000</td>\n",
       "    </tr>\n",
       "    <tr>\n",
       "      <th>25%</th>\n",
       "      <td>19.000000</td>\n",
       "      <td>100.000000</td>\n",
       "      <td>65.000000</td>\n",
       "      <td>6.900000</td>\n",
       "      <td>98.000000</td>\n",
       "      <td>70.000000</td>\n",
       "    </tr>\n",
       "    <tr>\n",
       "      <th>50%</th>\n",
       "      <td>26.000000</td>\n",
       "      <td>120.000000</td>\n",
       "      <td>80.000000</td>\n",
       "      <td>7.500000</td>\n",
       "      <td>98.000000</td>\n",
       "      <td>76.000000</td>\n",
       "    </tr>\n",
       "    <tr>\n",
       "      <th>75%</th>\n",
       "      <td>39.000000</td>\n",
       "      <td>120.000000</td>\n",
       "      <td>90.000000</td>\n",
       "      <td>8.000000</td>\n",
       "      <td>98.000000</td>\n",
       "      <td>80.000000</td>\n",
       "    </tr>\n",
       "    <tr>\n",
       "      <th>max</th>\n",
       "      <td>70.000000</td>\n",
       "      <td>160.000000</td>\n",
       "      <td>100.000000</td>\n",
       "      <td>19.000000</td>\n",
       "      <td>103.000000</td>\n",
       "      <td>90.000000</td>\n",
       "    </tr>\n",
       "  </tbody>\n",
       "</table>\n",
       "</div>"
      ],
      "text/plain": [
       "               Age   SystolicBP  DiastolicBP           BS     BodyTemp  \\\n",
       "count  1014.000000  1014.000000  1014.000000  1014.000000  1014.000000   \n",
       "mean     29.871795   113.198225    76.460552     8.725986    98.665089   \n",
       "std      13.474386    18.403913    13.885796     3.293532     1.371384   \n",
       "min      10.000000    70.000000    49.000000     6.000000    98.000000   \n",
       "25%      19.000000   100.000000    65.000000     6.900000    98.000000   \n",
       "50%      26.000000   120.000000    80.000000     7.500000    98.000000   \n",
       "75%      39.000000   120.000000    90.000000     8.000000    98.000000   \n",
       "max      70.000000   160.000000   100.000000    19.000000   103.000000   \n",
       "\n",
       "         HeartRate  \n",
       "count  1014.000000  \n",
       "mean     74.301775  \n",
       "std       8.088702  \n",
       "min       7.000000  \n",
       "25%      70.000000  \n",
       "50%      76.000000  \n",
       "75%      80.000000  \n",
       "max      90.000000  "
      ]
     },
     "execution_count": 70,
     "metadata": {},
     "output_type": "execute_result"
    }
   ],
   "source": [
    "# check the summary statistics of numerical features\n",
    "print('The summary Statistics of numerical features:')\n",
    "df.describe()"
   ]
  },
  {
   "cell_type": "code",
   "execution_count": 71,
   "id": "e4842f96",
   "metadata": {},
   "outputs": [
    {
     "name": "stdout",
     "output_type": "stream",
     "text": [
      "       RiskLevel\n",
      "count       1014\n",
      "unique         3\n",
      "top     low risk\n",
      "freq         406\n",
      "\n",
      "Categorical Data Insights:\n",
      "RiskLevel frequency:\n",
      "low risk     406\n",
      "mid risk     336\n",
      "high risk    272\n",
      "Name: RiskLevel, dtype: int64\n"
     ]
    }
   ],
   "source": [
    "# check the summary statistics of the class distribution of the target variable\n",
    "print(df.describe(include='object'))\n",
    "# Value counts for categorical features\n",
    "print(\"\\nCategorical Data Insights:\")\n",
    "for col in df.select_dtypes(include=['object']).columns:\n",
    "    print(f\"{col} frequency:\")\n",
    "    print(df[col].value_counts())\n",
    "\n"
   ]
  },
  {
   "cell_type": "markdown",
   "id": "b5d9d454",
   "metadata": {},
   "source": [
    "### 1.3.1 Further analysis on the numerical features"
   ]
  },
  {
   "cell_type": "code",
   "execution_count": 72,
   "id": "b9bacb1a",
   "metadata": {},
   "outputs": [
    {
     "name": "stdout",
     "output_type": "stream",
     "text": [
      "\n",
      "Skewness and Kurtosis:\n",
      "Age: Skewness = 0.78, Kurtosis = -0.39\n",
      "SystolicBP: Skewness = -0.25, Kurtosis = -0.61\n",
      "DiastolicBP: Skewness = -0.05, Kurtosis = -0.95\n",
      "BS: Skewness = 1.87, Kurtosis = 2.3\n",
      "BodyTemp: Skewness = 1.75, Kurtosis = 1.45\n",
      "HeartRate: Skewness = -1.04, Kurtosis = 8.4\n"
     ]
    }
   ],
   "source": [
    "# Skewness and Kurtosis\n",
    "print(\"\\nSkewness and Kurtosis:\")\n",
    "for col in df.select_dtypes(include=['number']).columns:\n",
    "    skewness_value = round(df[col].skew(),2)\n",
    "    kurtosis_value = round(df[col].kurt(),2)\n",
    "    print(f\"{col}: Skewness = {skewness_value}, Kurtosis = {kurtosis_value}\")"
   ]
  },
  {
   "cell_type": "markdown",
   "id": "1671fd31",
   "metadata": {},
   "source": [
    " - Explanation of Skewness\n",
    " 1) Age, BS, BodyTemp: positvely skewed, suggesting the presence of higher values pulling the tail of the distribution to the right\n",
    " 2) HeartRate: Negatively skewed which indicates some low values extending the tail to the left.\n",
    " \n",
    " - Explanation of Kurtosis\n",
    " 1) BS, BodyTemp, HeartRate: High positve kurtosis which indicates some extreme values or presence of outliers\n",
    " 2) Age, SystolicBP, DiastolicBP: Negative kurtosis which suggests a flatter distribution with minimum outliers"
   ]
  },
  {
   "cell_type": "markdown",
   "id": "4fbc4e34",
   "metadata": {},
   "source": [
    "## 2. Enhancement of Data\n",
    "- Additional columns will be created using existing features:\n",
    "1) Mean Arterial Pressure(MAP): The MAP helps in monitoring hypertension and ensuring adequate organ perfusion during pregnancy\n",
    "2) Pulse Pressure(PP): Provides insights into the arterial stiffness and cardiovascular risk.\n",
    "\n",
    "- The Target variable(RiskLevel) will be changed from categorical data type to numerical data type"
   ]
  },
  {
   "cell_type": "markdown",
   "id": "1110fbd4",
   "metadata": {},
   "source": [
    "### 2.1 Code for Enhancement of Data"
   ]
  },
  {
   "cell_type": "code",
   "execution_count": 73,
   "id": "2842108a",
   "metadata": {},
   "outputs": [
    {
     "name": "stdout",
     "output_type": "stream",
     "text": [
      "\n",
      "Enhanced Data set\n",
      "   Age  SystolicBP  DiastolicBP    BS  BodyTemp  HeartRate  RiskLevel     MAP  \\\n",
      "0   25         130           80  15.0      98.0         86        2.0   96.67   \n",
      "1   35         140           90  13.0      98.0         70        2.0  106.67   \n",
      "2   29          90           70   8.0     100.0         80        2.0   76.67   \n",
      "3   30         140           85   7.0      98.0         70        2.0  103.33   \n",
      "4   35         120           60   6.1      98.0         76        0.0   80.00   \n",
      "\n",
      "   Pulse  \n",
      "0     50  \n",
      "1     50  \n",
      "2     20  \n",
      "3     55  \n",
      "4     60  \n"
     ]
    }
   ],
   "source": [
    "# Calculate the Mean Arterial Pressure(MAP)\n",
    "df['MAP'] = round((df['SystolicBP'] +2 * df['DiastolicBP'])/3,2)\n",
    "\n",
    "# Calculate Pulse Pressure (PP)\n",
    "df['Pulse'] = df['SystolicBP'] - df['DiastolicBP']\n",
    "\n",
    "# Map the Target Variable\n",
    "Risk = {'low risk': 0, 'mid risk': 1, 'high risk': 2}\n",
    "df['RiskLevel'] = df['RiskLevel'].map(Risk).astype(float)\n",
    "\n",
    "# checking the enhanced data set\n",
    "print('\\nEnhanced Data set')\n",
    "print(df.head(5))"
   ]
  },
  {
   "cell_type": "code",
   "execution_count": null,
   "id": "dcd4245f",
   "metadata": {},
   "outputs": [],
   "source": []
  }
 ],
 "metadata": {
  "kernelspec": {
   "display_name": "Python 3 (ipykernel)",
   "language": "python",
   "name": "python3"
  },
  "language_info": {
   "codemirror_mode": {
    "name": "ipython",
    "version": 3
   },
   "file_extension": ".py",
   "mimetype": "text/x-python",
   "name": "python",
   "nbconvert_exporter": "python",
   "pygments_lexer": "ipython3",
   "version": "3.11.4"
  }
 },
 "nbformat": 4,
 "nbformat_minor": 5
}
